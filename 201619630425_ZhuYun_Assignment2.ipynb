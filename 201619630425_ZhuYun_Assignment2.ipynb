{
 "cells": [
  {
   "cell_type": "markdown",
   "metadata": {},
   "source": [
    "![](https://i.imgur.com/ftKr4IX.png)"
   ]
  },
  {
   "cell_type": "markdown",
   "metadata": {},
   "source": [
    "# BTH004 Assignment2 Experiment Report"
   ]
  },
  {
   "cell_type": "markdown",
   "metadata": {},
   "source": [
    "* Name: Zhu Yun\n",
    "* Class: 1604\n",
    "* Student ID: 201619630425\n",
    "* Teacher: Chen Zhenbo\n",
    "* Date: 2018/10/29\n",
    "\n",
    "---"
   ]
  },
  {
   "cell_type": "markdown",
   "metadata": {},
   "source": [
    "## 1. Problem Description\n",
    "* Practice theoretical and practical algorithm analysis(bubble sort and merge sort)"
   ]
  },
  {
   "cell_type": "markdown",
   "metadata": {},
   "source": [
    "## 2. Theoretical algorithm analysis\n",
    "### 2.1 Merge sort"
   ]
  },
  {
   "cell_type": "markdown",
   "metadata": {},
   "source": [
    "> [This image is from the website](https://blog.csdn.net/bluetjs/article/details/52485920)\n",
    "![](https://i.imgur.com/bfStLCB.jpg)"
   ]
  },
  {
   "cell_type": "markdown",
   "metadata": {},
   "source": [
    "Everytime we split one big part into two small parts until appears T(1), because it is constant time complexity.N means we need to compare N times when we merge them.\n",
    "$$T(N) = 2T(\\frac{N}{2})+N$$\n",
    "$$T(\\frac{N}{2}) = 2T(\\frac{N}{4})+N$$\n",
    "$$T(\\frac{N}{4}) = 2T(\\frac{N}{8})+N$$\n",
    "$$...$$\n",
    "$$T(2) = 2T(1)+N$$\n",
    "In order to calculate time complexity easily. I use in a trick way.\n",
    "$$\\frac{T(N)}{N} = \\frac{T(\\frac{N}{2})}{\\frac{N}{2}}+1$$\n",
    "$$\\frac{T(\\frac{N}{2})}{\\frac{N}{2}} = \\frac{T(\\frac{N}{4})}{\\frac{N}{4}}+1$$\n",
    "$$\\frac{T(\\frac{N}{4})}{\\frac{N}{4}} = \\frac{T(\\frac{N}{8})}{\\frac{N}{8}}+1$$\n",
    "$$...$$\n",
    "$$\\frac{T(2)}{2} = T(1)+1$$\n",
    "At last, we get\n",
    "$$\\frac{T(N)}{N} = \\underbrace{1 + 1 + ...+ 1}_{logN} + T(1)$$\n",
    "$$T(N) = NlogN + N$$\n",
    "So, the time complexity is\n",
    "$$O(N) = NlogN$$"
   ]
  },
  {
   "cell_type": "markdown",
   "metadata": {},
   "source": [
    "### 2.2 Bubble sort\n",
    "> The image is from [visualgo](https://visualgo.net/zh/sorting)\n",
    "![](https://i.imgur.com/OrM52Pc.gif)"
   ]
  },
  {
   "cell_type": "markdown",
   "metadata": {},
   "source": [
    "The more details about this algorithm I draw a photo to describe them.\n",
    "![](https://i.imgur.com/lbIobtv.png)"
   ]
  },
  {
   "cell_type": "markdown",
   "metadata": {},
   "source": [
    "According to the images above, we can conclude that every element need to do around n times comparison. So the time complexity is:\n",
    "$$T(N) = (N-1) + (N-2) + (N-3)...+ 1$$\n",
    "$$T(N) = \\frac{(1+(N-1))*(N-1)}{2}$$\n",
    "$$T(N) = \\frac{N*(N-1)}{2}$$\n",
    "$$O(N) = N^2$$"
   ]
  },
  {
   "cell_type": "markdown",
   "metadata": {},
   "source": [
    "## 3. Source code"
   ]
  },
  {
   "cell_type": "markdown",
   "metadata": {},
   "source": [
    "### 3.1 Merge sort"
   ]
  },
  {
   "cell_type": "code",
   "execution_count": 1,
   "metadata": {
    "ExecuteTime": {
     "end_time": "2018-10-29T17:09:21.308479Z",
     "start_time": "2018-10-29T17:09:21.257618Z"
    }
   },
   "outputs": [
    {
     "name": "stdout",
     "output_type": "stream",
     "text": [
      "[1, 8, 9, 12, 17, 25, 31, 31, 32, 35, 39, 42, 46, 49, 63, 65, 68, 76, 89, 99, 101, 119, 122, 122, 122, 124, 124, 131, 138, 140, 150, 167, 170, 171, 171, 172, 179, 183, 185, 190, 196, 198, 201, 211, 218, 224, 248, 253, 266, 280, 281, 284, 302, 305, 309, 312, 313, 316, 325, 325, 333, 336, 342, 347, 349, 350, 358, 367, 368, 378, 379, 386, 387, 394, 406, 412, 416, 421, 423, 423, 432, 432, 437, 439, 443, 444, 450, 453, 461, 477, 481, 492, 495, 502, 509, 514, 515, 521, 522, 524, 525, 528, 529, 540, 546, 547, 553, 555, 561, 570, 573, 580, 580, 587, 597, 602, 609, 612, 635, 635, 636, 638, 643, 643, 648, 650, 650, 661, 663, 676, 687, 694, 694, 701, 702, 704, 710, 712, 714, 715, 721, 722, 722, 723, 723, 727, 728, 738, 740, 752, 753, 761, 766, 768, 771, 774, 777, 777, 779, 782, 784, 784, 800, 804, 805, 810, 827, 833, 833, 834, 835, 854, 857, 870, 909, 913, 913, 913, 915, 922, 926, 933, 934, 935, 947, 951, 952, 954, 964, 969, 973, 973, 974, 979, 980, 986, 988, 992, 999, 999]\n",
      "Wall time: 151 ms\n"
     ]
    }
   ],
   "source": [
    "%%time\n",
    "import numpy as np\n",
    "\n",
    "def mergeSort(li):\n",
    "    if len(li) <= 1:\n",
    "        return li\n",
    "    L = 0\n",
    "    R = len(li) - 1\n",
    "    mid = L + (R-L)//2\n",
    "    arrL = mergeSort(li[L: mid+1])\n",
    "    arrR = mergeSort(li[mid+1: R+1])\n",
    "    return linear_merge(arrL, arrR)\n",
    "\n",
    "def linear_merge(li1, li2):\n",
    "    lCursor = 0\n",
    "    len1 = len(li1)\n",
    "    rCursor = 0\n",
    "    len2 = len(li2)\n",
    "    tmp = []\n",
    "    \n",
    "    while lCursor < len1 and rCursor < len2:\n",
    "        if li1[lCursor] < li2[rCursor]:\n",
    "            tmp.append(li1[lCursor])\n",
    "            lCursor += 1\n",
    "        else:\n",
    "            tmp.append(li2[rCursor])\n",
    "            rCursor += 1\n",
    "    while lCursor < len1:\n",
    "        tmp.append(li1[lCursor])\n",
    "        lCursor +=1\n",
    "    while rCursor < len2:\n",
    "        tmp.append(li2[rCursor])\n",
    "        rCursor += 1\n",
    "    return tmp\n",
    "print(mergeSort(np.random.randint(1000, size=200)))"
   ]
  },
  {
   "cell_type": "markdown",
   "metadata": {},
   "source": [
    "### 3.2 Bubble sort"
   ]
  },
  {
   "cell_type": "code",
   "execution_count": 2,
   "metadata": {
    "ExecuteTime": {
     "end_time": "2018-10-29T17:09:19.023512Z",
     "start_time": "2018-10-29T17:09:18.984627Z"
    }
   },
   "outputs": [
    {
     "name": "stdout",
     "output_type": "stream",
     "text": [
      "[  1   7  11  26  28  30  34  35  40  44  62  68  68  69  77  84  84  87\n",
      "  88  96 100 100 102 108 115 117 128 137 147 159 163 170 177 186 189 192\n",
      " 197 204 211 214 217 221 233 242 249 250 252 263 266 279 296 298 300 300\n",
      " 314 317 324 329 332 348 362 373 383 390 391 391 392 398 401 413 414 427\n",
      " 452 458 460 464 469 471 472 476 481 482 483 490 494 495 496 496 497 510\n",
      " 511 520 520 526 528 528 535 538 543 543 543 546 550 554 556 560 567 569\n",
      " 570 575 576 584 584 595 599 600 608 610 614 616 626 628 631 632 634 643\n",
      " 644 659 666 672 673 674 681 682 686 690 692 694 695 702 704 710 729 729\n",
      " 731 741 755 756 756 763 776 778 786 789 792 793 794 798 799 803 810 817\n",
      " 824 826 828 838 838 853 861 867 869 871 871 880 890 905 906 910 926 929\n",
      " 931 936 942 943 946 948 954 960 963 967 971 973 973 974 976 976 978 984\n",
      " 990 993]\n",
      "Wall time: 13 ms\n"
     ]
    }
   ],
   "source": [
    "%%time\n",
    "import numpy as np\n",
    "\n",
    "def bubbleSort(li):\n",
    "    if len(li) <= 1:\n",
    "        return li\n",
    "    n = len(li)-1\n",
    "    # when the list just has one element to be sorted, \n",
    "    while n > 0:\n",
    "        #print(li[: n+1])\n",
    "        m = len(li[: n+1])\n",
    "        for i in range(m):\n",
    "            if i == m-1:\n",
    "                break\n",
    "            else:\n",
    "                #print(\"cmp\", i, i+1)\n",
    "                if li[i] > li[i+1]:\n",
    "                    #print(\"swap\", i, i+1)\n",
    "                    tmp = li[i]\n",
    "                    li[i] = li[i+1]\n",
    "                    li[i+1] = tmp\n",
    "        n -= 1\n",
    "    return li\n",
    "print(bubbleSort(np.random.randint(1000, size=200)))"
   ]
  },
  {
   "cell_type": "markdown",
   "metadata": {},
   "source": [
    "### 3.3 Measure the time"
   ]
  },
  {
   "cell_type": "code",
   "execution_count": 17,
   "metadata": {},
   "outputs": [],
   "source": [
    "def calculate_time(fun, size=1000, name=\"merge sort\"):\n",
    "    startTime = time.clock()\n",
    "    fun(np.random.randint(size, size=size).tolist())\n",
    "    endTime = time.clock()\n",
    "    duration = endTime - startTime\n",
    "    print(\"When size is %d, %s uses %f s\"%(size, name, duration))"
   ]
  },
  {
   "cell_type": "code",
   "execution_count": 18,
   "metadata": {
    "ExecuteTime": {
     "end_time": "2018-10-29T17:09:59.658830Z",
     "start_time": "2018-10-29T17:09:59.590906Z"
    }
   },
   "outputs": [
    {
     "name": "stdout",
     "output_type": "stream",
     "text": [
      "When size is 1000, merge sort uses 0.003092 s\n",
      "When size is 1000, bubble sort uses 0.111527 s\n",
      "Wall time: 115 ms\n"
     ]
    }
   ],
   "source": [
    "%%time\n",
    "import time\n",
    "import numpy as np\n",
    "\n",
    "calculate_time(mergeSort)\n",
    "\n",
    "calculate_time(bubbleSort, name=\"bubble sort\")"
   ]
  },
  {
   "cell_type": "code",
   "execution_count": 19,
   "metadata": {},
   "outputs": [
    {
     "name": "stdout",
     "output_type": "stream",
     "text": [
      "When size is 5000, merge sort uses 0.019682 s\n",
      "When size is 5000, bubble sort uses 3.080467 s\n",
      "Wall time: 3.1 s\n"
     ]
    }
   ],
   "source": [
    "%%time\n",
    "calculate_time(mergeSort, size=5000)\n",
    "\n",
    "calculate_time(bubbleSort, size=5000, name=\"bubble sort\")"
   ]
  },
  {
   "cell_type": "code",
   "execution_count": 20,
   "metadata": {},
   "outputs": [
    {
     "name": "stdout",
     "output_type": "stream",
     "text": [
      "When size is 10000, merge sort uses 0.046172 s\n",
      "When size is 10000, bubble sort uses 12.063236 s\n",
      "Wall time: 12.1 s\n"
     ]
    }
   ],
   "source": [
    "%%time\n",
    "calculate_time(mergeSort, size=10000)\n",
    "\n",
    "calculate_time(bubbleSort, size=10000, name=\"bubble sort\")"
   ]
  },
  {
   "cell_type": "code",
   "execution_count": 21,
   "metadata": {},
   "outputs": [
    {
     "name": "stdout",
     "output_type": "stream",
     "text": [
      "When size is 20000, merge sort uses 0.089466 s\n",
      "When size is 20000, bubble sort uses 48.349499 s\n",
      "Wall time: 48.4 s\n"
     ]
    }
   ],
   "source": [
    "%%time\n",
    "calculate_time(mergeSort, size=20000)\n",
    "\n",
    "calculate_time(bubbleSort, size=20000, name=\"bubble sort\")"
   ]
  },
  {
   "cell_type": "markdown",
   "metadata": {},
   "source": [
    "<table>\n",
    "    <tr>\n",
    "        <th>size</th>\n",
    "        <th>merge sort</th>\n",
    "        <th>bubble sort</th>\n",
    "    </tr>\n",
    "    <tr>\n",
    "        <td>1000</td>\n",
    "        <td>0.003092 s</td>\n",
    "        <td>0.111527 s</td>\n",
    "    </tr>\n",
    "    <tr>\n",
    "        <td>5000</td>\n",
    "        <td>0.019682 s</td>\n",
    "        <td>3.080467 s</td>\n",
    "    </tr>\n",
    "    <tr>\n",
    "        <td>10000</td>\n",
    "        <td>0.046172 s</td>\n",
    "        <td>12.063236</td>\n",
    "    </tr>\n",
    "    <tr>\n",
    "        <td>20000</td>\n",
    "        <td>0.089466 s</td>\n",
    "        <td>48.349499 s</td>\n",
    "    </tr>\n",
    "</table>"
   ]
  },
  {
   "cell_type": "markdown",
   "metadata": {},
   "source": [
    "## 4. Comparison between your theoretical and practical analysis\n"
   ]
  },
  {
   "cell_type": "markdown",
   "metadata": {},
   "source": [
    "### 4.1 Theoretical analysis\n",
    "* As we discussed before\n",
    "    * About merge sort: $f(N) = T(N) = NlogN + N$\n",
    "    * About bubble sort: $f(N) = T(N) = \\frac{N*(N-1)}{2}$\n",
    "* So the comparison time table:\n"
   ]
  },
  {
   "cell_type": "markdown",
   "metadata": {},
   "source": [
    "<table>\n",
    "    <tr>\n",
    "        <th>kind</th>\n",
    "        <th>f(1000)</th>\n",
    "        <th>f(5000)</th>\n",
    "        <th>f(10000)</th>\n",
    "        <th>f(20000)</th>\n",
    "    </tr>\n",
    "    <tr>\n",
    "        <td>Merge sort</td>\n",
    "        <td>4000</td>\n",
    "        <td>23495</td>\n",
    "        <td>50000</td>\n",
    "        <td>499500</td>\n",
    "        \n",
    "    </tr>\n",
    "    <tr>\n",
    "        <td>Bubble sort</td>\n",
    "        <td>106020</td>\n",
    "        <td>12497500</td>\n",
    "        <td>49995000</td>\n",
    "        <td>199990000</td>\n",
    "    </tr>\n",
    "</table>"
   ]
  },
  {
   "cell_type": "markdown",
   "metadata": {},
   "source": [
    "### 4.2 Practical analysis"
   ]
  },
  {
   "cell_type": "markdown",
   "metadata": {},
   "source": [
    "<table>\n",
    "    <tr>\n",
    "        <th>kind</th>\n",
    "        <th>T(1000)</th>\n",
    "        <th>T(5000)</th>\n",
    "        <th>T(10000)</th>\n",
    "        <th>T(20000)</th>\n",
    "    </tr>\n",
    "    <tr>\n",
    "        <td>Merge sort</td>\n",
    "        <td>0.003092 s</td>\n",
    "        <td>0.019682 s</td>\n",
    "        <td>0.046172 s</td>\n",
    "        <td>0.089466 s</td>\n",
    "        \n",
    "    </tr>\n",
    "    <tr>\n",
    "        <td>Bubble sort</td>\n",
    "        <td>0.111527 s</td>\n",
    "        <td>3.080467 s</td>\n",
    "        <td>12.063236</td>\n",
    "        <td>48.349499 s</td>\n",
    "    </tr>\n",
    "</table>"
   ]
  },
  {
   "cell_type": "code",
   "execution_count": 2,
   "metadata": {},
   "outputs": [],
   "source": [
    "%matplotlib inline"
   ]
  },
  {
   "cell_type": "code",
   "execution_count": 9,
   "metadata": {},
   "outputs": [
    {
     "data": {
      "text/plain": [
       "<matplotlib.legend.Legend at 0x242fdc117f0>"
      ]
     },
     "execution_count": 9,
     "metadata": {},
     "output_type": "execute_result"
    },
    {
     "data": {
      "image/png": "[encoded data removed]",
      "text/plain": [
       "<matplotlib.figure.Figure at 0x242fdb53080>"
      ]
     },
     "metadata": {
      "needs_background": "light"
     },
     "output_type": "display_data"
    }
   ],
   "source": [
    "import matplotlib.pyplot as plt\n",
    "\n",
    "_, ax = plt.subplots()\n",
    "ax.plot([1000, 5000, 10000, 20000], [0.003, 0.02, 0.046, 0.0895], label=\"merge\")\n",
    "ax.plot([1000, 5000, 10000, 20000], [0.11, 3.08, 12.06, 48.35],label=\"bubble\")\n",
    "ax.set_ylabel(\"Running time(s)\")\n",
    "ax.set_xlabel(\"Size\")\n",
    "ax.legend()"
   ]
  },
  {
   "cell_type": "code",
   "execution_count": 10,
   "metadata": {},
   "outputs": [],
   "source": [
    "import math\n",
    "def merge_comparison_num(nums):\n",
    "    return list(map(lambda x: math.log(x, 2)*x + x, nums))\n",
    "def get_cvalue(fn, Fn):\n",
    "    return list(map(lambda x, y: x/y, Fn, fn))"
   ]
  },
  {
   "cell_type": "code",
   "execution_count": 16,
   "metadata": {},
   "outputs": [],
   "source": [
    "merge_comparsions = merge_comparison_num([1000, 5000, 10000, 20000])"
   ]
  },
  {
   "cell_type": "code",
   "execution_count": 19,
   "metadata": {
    "scrolled": true
   },
   "outputs": [
    {
     "data": {
      "text/plain": [
       "[2.8196797600011154e-07,\n",
       " 2.965145457290215e-07,\n",
       " 3.2195496926325e-07,\n",
       " 2.910834459413834e-07]"
      ]
     },
     "execution_count": 19,
     "metadata": {},
     "output_type": "execute_result"
    }
   ],
   "source": [
    "get_cvalue(merge_comparsions, [0.003092, 0.0197, 0.046, 0.089])"
   ]
  },
  {
   "cell_type": "code",
   "execution_count": 20,
   "metadata": {},
   "outputs": [
    {
     "data": {
      "text/plain": [
       "[1.03754008677608e-06,\n",
       " 2.464492898579716e-07,\n",
       " 2.4002400240024e-07,\n",
       " 2.4176208810440525e-07]"
      ]
     },
     "execution_count": 20,
     "metadata": {},
     "output_type": "execute_result"
    }
   ],
   "source": [
    "get_cvalue([106020, 12497500, 49995000, 199990000], [0.11, 3.08, 12, 48.35])"
   ]
  },
  {
   "cell_type": "markdown",
   "metadata": {},
   "source": [
    "\n",
    "<table>\n",
    "    <tr>\n",
    "        <th>c value</th>\n",
    "        <th>1000</th>\n",
    "        <th>5000</th>\n",
    "        <th>10000</th>\n",
    "        <th>20000</th>\n",
    "    </tr>\n",
    "    <tr>\n",
    "        <td>Merge sort</td>\n",
    "        <td>$2.82*10^{-7}$</td>\n",
    "        <td>$2.96*10^{-7}$</td>\n",
    "        <td>$3.22*10^{-7}$</td>\n",
    "        <td>$2.91*10^{-7}$</td>      \n",
    "    </tr>\n",
    "    <tr>\n",
    "        <td>Bubble sort</td>\n",
    "        <td>$1.03*10^{-6}$</td>\n",
    "        <td>$2.46*10^{-7}$</td>\n",
    "        <td>$2.4*10^{-7}$</td>\n",
    "        <td>$2.41*10^{-7}$</td>\n",
    "    </tr>\n",
    "</table>\n",
    "* Sometimes c of merge sort equals to c of bubble sort, but other times c of merge sort is bigger than c of bubble sort .C can’t show the relationship between different algorithms.\n"
   ]
  },
  {
   "cell_type": "markdown",
   "metadata": {},
   "source": [
    "### 4.3 Answer the following question: At what input size do you consider the time required for initialization to be negligible in relation to the total running time of the algorithm?\n"
   ]
  },
  {
   "cell_type": "markdown",
   "metadata": {},
   "source": [
    "* When the input size is pretty large."
   ]
  }
 ],
 "metadata": {
  "kernelspec": {
   "display_name": "Python 3",
   "language": "python",
   "name": "python3"
  },
  "language_info": {
   "codemirror_mode": {
    "name": "ipython",
    "version": 3
   },
   "file_extension": ".py",
   "mimetype": "text/x-python",
   "name": "python",
   "nbconvert_exporter": "python",
   "pygments_lexer": "ipython3",
   "version": "3.6.4"
  }
 },
 "nbformat": 4,
 "nbformat_minor": 2
}
