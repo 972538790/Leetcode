{
 "cells": [
  {
   "cell_type": "markdown",
   "metadata": {},
   "source": [
    "![](https://i.imgur.com/ftKr4IX.png)"
   ]
  },
  {
   "cell_type": "markdown",
   "metadata": {},
   "source": [
    "# BTH004 Assignment1 Experiment Report\n",
    "* Name: Zhu Yun\n",
    "* Student ID: 201619630425\n",
    "* Teacher: Chen Zhenbo\n",
    "* Problem: multiple knapsack problem\n",
    "* Date: 2018/10/23\n",
    "---"
   ]
  },
  {
   "cell_type": "markdown",
   "metadata": {},
   "source": [
    "## Problem description:The multiple knapsack problem\n",
    "![](https://i.imgur.com/7NiGHbw.png)"
   ]
  },
  {
   "cell_type": "markdown",
   "metadata": {},
   "source": [
    "## Part 1 - Greedy and neighborhood search algorithms\n",
    "### A (contructive) greedy algorithm.\n",
    "#### 1. Algorithm description\n",
    "![](https://i.imgur.com/pepCZNi.png)"
   ]
  },
  {
   "cell_type": "markdown",
   "metadata": {},
   "source": [
    "#### 2. The rough flowchart about how to calculate the result(The details I will explain in the next section):\n",
    "![](https://i.imgur.com/1tdJNVl.png)"
   ]
  },
  {
   "cell_type": "markdown",
   "metadata": {},
   "source": [
    "#### 4. The details about implementing this algorithm\n",
    "* About how to choose the order of knapsacks\n",
    "    * I use the biggest knapsack at first, when the knapsack can not hold any stuff. I will use the second biggest...\n",
    "* About how to choose stuff\n",
    "    * The biggest value(v/w) of stuff will be put into knapsack at first, if the weight of the stuff is larger than the capacity of knapsack, I ignore this stuff and select next one(still jugde the weight).\n",
    "---"
   ]
  },
  {
   "cell_type": "markdown",
   "metadata": {},
   "source": [
    "#### 5.The source codes are presented below."
   ]
  },
  {
   "cell_type": "code",
   "execution_count": 3,
   "metadata": {},
   "outputs": [],
   "source": [
    "# This line magic function makes it possible to see all results after running this algorithm.\n",
    "%config ZMQInteractiveShell.ast_node_interactivity='all'"
   ]
  },
  {
   "cell_type": "code",
   "execution_count": 39,
   "metadata": {},
   "outputs": [],
   "source": [
    "def greedy_solution(values: \"The values of stuff(a list of integers)\", \n",
    "                    weights: \"The weights of stuff(a list of integers)\", \n",
    "                    capacities: \"The capacities of knapsack(a list of integers)\")->\"function return should be a integer\":\n",
    "    \n",
    "    assert len(weights) == len(values), \"One weight corresopnds to one value\"\n",
    "    \n",
    "    # record the v/w\n",
    "    gravities = list(map(lambda x, y: x/y, values, weights))\n",
    "    \n",
    "    # record the stuff if is used\n",
    "    excludedStuff = []\n",
    "    for i in range(len(weights)):\n",
    "        excludedStuff.append((gravities[i], weights[i], values[i]))\n",
    "\n",
    "    # sort the list\n",
    "    excludedStuff = sorted(excludedStuff)\n",
    "\n",
    "    result = 0\n",
    "    # record which of the index should be used.\n",
    "    priority = 0\n",
    "    # sort the capacities, in order to let the biggest bag be used firstly.\n",
    "    capacities = sorted(capacities)\n",
    "    while excludedStuff and capacities:\n",
    "        capacity = capacities.pop()\n",
    "        priority = len(excludedStuff) - 1\n",
    "        while capacity > 0 and priority >= 0:\n",
    "            stuff = excludedStuff[priority]\n",
    "            if(capacity < stuff[1]):\n",
    "                priority -= 1\n",
    "            else:\n",
    "                capacity -= stuff[1]\n",
    "                result += stuff[2]\n",
    "                # when the stuff is used, we remove it from excludedStuff.\n",
    "                re = excludedStuff.pop(priority)\n",
    "                # reset the priority(minus one)\n",
    "                priority -= 1\n",
    "    return result"
   ]
  },
  {
   "cell_type": "markdown",
   "metadata": {},
   "source": [
    "#### 6. Test cases：\n",
    "<table border=\"1\">\n",
    "  <tr>\n",
    "    <th>Values</th>\n",
    "    <th>Weights</th>\n",
    "    <th>Capacity</th>\n",
    "    <th>Result</th>\n",
    "  </tr>\n",
    "  <tr>\n",
    "    <td>[4, 10, 5, 8]</td>\n",
    "    <td>[3, 9, 4, 6]</td>\n",
    "      <td>[12]</td>\n",
    "      <td>12</td>\n",
    "  </tr>\n",
    "    <tr>\n",
    "    <td>[4, 10, 5, 8]</td>\n",
    "    <td>[3, 9, 4, 6]</td>\n",
    "      <td>[12, 5]</td>\n",
    "      <td>17</td>\n",
    "  </tr>\n",
    "    <tr>\n",
    "    <td>[8, 3, 2]</td>\n",
    "    <td>[8, 5, 3]</td>\n",
    "      <td>[13, 3]</td>\n",
    "      <td>10</td>\n",
    "  </tr>\n",
    "    <tr>\n",
    "    <td>[10, 8, 1, 5]</td>\n",
    "    <td>[10, 7, 4, 8]</td>\n",
    "      <td>[14, 8]</td>\n",
    "      <td>14</td>\n",
    "  </tr>\n",
    "</table>"
   ]
  },
  {
   "cell_type": "code",
   "execution_count": 40,
   "metadata": {},
   "outputs": [
    {
     "data": {
      "text/plain": [
       "12"
      ]
     },
     "execution_count": 40,
     "metadata": {},
     "output_type": "execute_result"
    },
    {
     "data": {
      "text/plain": [
       "17"
      ]
     },
     "execution_count": 40,
     "metadata": {},
     "output_type": "execute_result"
    },
    {
     "data": {
      "text/plain": [
       "10"
      ]
     },
     "execution_count": 40,
     "metadata": {},
     "output_type": "execute_result"
    },
    {
     "data": {
      "text/plain": [
       "14"
      ]
     },
     "execution_count": 40,
     "metadata": {},
     "output_type": "execute_result"
    }
   ],
   "source": [
    "greedy_solution([4, 10, 5, 8], [3, 9, 4, 6], [12])\n",
    "greedy_solution([4, 10, 5, 8], [3, 9, 4, 6], [12, 5])\n",
    "greedy_solution([8, 3, 2], [8, 5, 3], [13, 3])\n",
    "greedy_solution([10, 8, 1, 5], [10, 7, 4, 8], [14, 8])"
   ]
  },
  {
   "cell_type": "markdown",
   "metadata": {},
   "source": [
    "* As we can see, the answers of these quesions are all correct.\n",
    "\n",
    "---"
   ]
  },
  {
   "cell_type": "markdown",
   "metadata": {},
   "source": [
    "### An improving search (neighborhood search) algorithm.\n",
    "#### 1. Algorithm description\n",
    "![](https://i.imgur.com/LrYeMpG.png)\n",
    "\n",
    "---"
   ]
  },
  {
   "cell_type": "markdown",
   "metadata": {},
   "source": [
    "##### 1.1 The graphic description of this algorithm\n",
    "* In order to understand it easily, we use very simple sample.(Maybe it can not describe the algorithm very clearly)\n",
    "![](https://i.imgur.com/2pTglXY.png)"
   ]
  },
  {
   "cell_type": "markdown",
   "metadata": {},
   "source": [
    "#### 2. The details\n",
    "* How to choose the start position\n",
    "    * I use the result calculated by greedy algorithm.\n",
    "* **How to choose the neighbours**\n",
    "    1. Select one stuff from outside.  \n",
    "    2. use nested for-loop  \n",
    "    3. for center_bag in allBags:  \n",
    "        * for other_bag in allBags:\n",
    "          * remove one stuff from center_bag in order to hold selected stuff which is from outside\n",
    "          * remove one stuff from other_bag in order to hold removed stuff from center_bag\n",
    "    * we get a result, if it is bigger than before we set it as a new starter and restart this nested-loop. else we end it, return the previousresult`\n",
    "\n",
    "##### 2.1 The more details of how to choose neighbours is pictured below.\n",
    "![](https://i.imgur.com/bU7Qo0y.png)"
   ]
  },
  {
   "cell_type": "markdown",
   "metadata": {},
   "source": [
    "#### 3. The source codes:"
   ]
  },
  {
   "cell_type": "code",
   "execution_count": 19,
   "metadata": {},
   "outputs": [],
   "source": [
    "import copy\n",
    "\n",
    "\n",
    "# calculate the amount of values\n",
    "def get_total_val(allBags):\n",
    "    res = 0\n",
    "    for bag in allBags:\n",
    "        if bag:\n",
    "            for item in bag:\n",
    "                res += item[2]\n",
    "    return res\n",
    "\n",
    "\n",
    "def ns_solution(values: \"The values of stuff(a list of integers)\",\n",
    "                  weights: \"The weights of stuff(a list of integers)\",\n",
    "                  capacitiesInvar: \"The capacities of knapsack(a list of integers)\") -> \"function return should be a integer\":\n",
    "    # ensure the length of weights equals to the length of values\n",
    "    assert len(weights) == len(values), \"One weight corresopnds to one value\"\n",
    "\n",
    "    # the original capacity of each bag\n",
    "    # I decide to use the biggest bag firstly.\n",
    "    capacitiesInvar = sorted(capacitiesInvar)\n",
    "    capacities = copy.deepcopy(capacitiesInvar)\n",
    "\n",
    "    # record the v/w\n",
    "    gravities = list(map(lambda x, y: x / y, values, weights))\n",
    "\n",
    "    # record the stuff that is not used\n",
    "    excludedStuff = []\n",
    "    # initialize the excludedStuff(add all at first)\n",
    "    for i in range(len(weights)):\n",
    "        excludedStuff.append((gravities[i], weights[i], values[i]))\n",
    "\n",
    "    # sort the list(according to the v/w, the bigger value(v/w) is in the tail) in order to make work easily\n",
    "    excludedStuff = sorted(excludedStuff)\n",
    "    # record the answer\n",
    "    result = 0\n",
    "    # record which of the index should be used.\n",
    "    priority = 0\n",
    "\n",
    "    # record the information of all stuff in bags\n",
    "    allBags = [[] for i in range(len(capacities))]\n",
    "    # record the index of which bag is used\n",
    "    # the biggest bag in first, the second biggest bag in second...\n",
    "    # the format like [[bagA], [(1.3, 4, 3), (1.2, 3, 3), ...], [bagC]...]\n",
    "    idx = -1\n",
    "    storedCapacities = []\n",
    "    iteraNum = 0\n",
    "    while excludedStuff and capacities:\n",
    "        tmpOtherStuff = None\n",
    "        tmpCenterStuff = None\n",
    "        # use the biggest bag at first.\n",
    "        capacity = capacities.pop()\n",
    "        idx += 1\n",
    "        # when restart a loop, we set priority as len(excludedStuff) - 1, in oreder to iterate all stuff in excludedStuff\n",
    "        priority = len(excludedStuff) - 1\n",
    "        while capacity > 0 and priority >= 0:\n",
    "            stuff = excludedStuff[priority]\n",
    "            # if the stuff is heavier than the capacity of bag, we skip this stuff.\n",
    "            if (capacity < stuff[1]):\n",
    "                priority -= 1\n",
    "\n",
    "            else:\n",
    "                capacity -= stuff[1]\n",
    "                result += stuff[2]\n",
    "\n",
    "                allBags[idx].append(stuff)\n",
    "                # when the stuff is used, we remove it from excludedStuff.\n",
    "                excludedStuff.pop(priority)\n",
    "                # reset the priority(minus one)\n",
    "                priority -= 1\n",
    "        storedCapacities.append(capacity)\n",
    "\n",
    "    # if there is no stuff left, we return the result.\n",
    "    if not excludedStuff:\n",
    "        return result\n",
    "\n",
    "    # ==============Let's start neighbour search========================\n",
    "    print(\"x(0):\", result)\n",
    "    # iterate select stuff from one bag into another\n",
    "    currentRes = result\n",
    "    maxRes = result\n",
    "    # store better strategy\n",
    "    betterBags = copy.deepcopy(allBags)\n",
    "\n",
    "    betterCapacities = copy.deepcopy(storedCapacities)\n",
    "    betterExcludedStuff = copy.deepcopy(excludedStuff)\n",
    "    nsExcludedStuff = copy.deepcopy(excludedStuff)\n",
    "    nsAllBags = copy.deepcopy(allBags)\n",
    "    nsCapacities = copy.deepcopy(storedCapacities)\n",
    "    # if there exists at least, we can use this way. When previous value is smaller than all his neighbors, we stop it.\n",
    "    while True and nsExcludedStuff:\n",
    "\n",
    "        eStuff = nsExcludedStuff.pop()\n",
    "        # iterate all the bags\n",
    "        for centerBag in nsAllBags:\n",
    "            if not centerBag:\n",
    "                # The state is end state. If it is empty, no stuff can be stored in this bag. So we just skip this bag.\n",
    "                continue\n",
    "            else:\n",
    "                # record the index of centerBag in the allBags, it will help us to calculate its room\n",
    "                cenIdx = nsAllBags.index(centerBag)\n",
    "                # record the num of iteration\n",
    "                cenIterNum = 0\n",
    "                m = len(centerBag)\n",
    "\n",
    "                \n",
    "\n",
    "                # Take a suitable item from the centerBag\n",
    "                while cenIterNum < m:\n",
    "                    cenStuff = centerBag.pop()\n",
    "                    if (nsCapacities[cenIdx] + cenStuff[1]) >= eStuff[1]:\n",
    "                        nsCapacities[cenIdx] += cenStuff[1] - eStuff[1]\n",
    "                        centerBag.append(eStuff)\n",
    "\n",
    "                        break\n",
    "                    else:\n",
    "                        centerBag.insert(0, cenStuff)\n",
    "                        cenIterNum += 1\n",
    "                # If there is no suitable item，we choose the next centerBag, skip this loop\n",
    "                if cenIterNum == m:\n",
    "                    \n",
    "                    break\n",
    "            for otherBag in nsAllBags:\n",
    "                otherIdx = nsAllBags.index(otherBag)\n",
    "                # if the centerBag or otherBag is empty, we skip it.\n",
    "                if centerBag == otherBag:\n",
    "                    continue\n",
    "                if not otherBag:\n",
    "                    if nsCapacities[otherIdx] >= cenStuff[1]:\n",
    "                        otherBag.append(cenStuff)\n",
    "                        nsCapacities[otherIdx] -= cenStuff[1]\n",
    "                        currentRes = get_total_val(nsAllBags)\n",
    "                        if currentRes > maxRes:\n",
    "                            maxRes = currentRes\n",
    "                            betterBags[otherIdx] = otherBag\n",
    "                            betterBags[cenIdx] = centerBag\n",
    "                            betterExcludedStuff = nsExcludedStuff\n",
    "                            betterCapacities = nsCapacities\n",
    "                            break\n",
    "                    else:\n",
    "                        tmpCenterStuff = cenStuff\n",
    "\n",
    "                else:\n",
    "\n",
    "                    otherIterNum = 0\n",
    "                    n = len(otherBag)\n",
    "                    \n",
    "                    # we remove one stuff from otherBag(if it is not ok, we put it back) until it can hold the stuff from centerBag\n",
    "                    while otherIterNum < n:\n",
    "                        otherStuff = otherBag.pop()\n",
    "                        if nsCapacities[otherIdx] + otherStuff[1] >= cenStuff[1]:\n",
    "                            otherBag.append(cenStuff)\n",
    "                            nsCapacities[otherIdx] += otherStuff[1] - cenStuff[1]\n",
    "                            #                             currentRes = maxRes - otherStuff[1] + eStuff[1]\n",
    "                            currentRes = get_total_val(nsAllBags)\n",
    "                            if currentRes > maxRes:\n",
    "                                tmpOtherStuff = otherStuff\n",
    "                                maxRes = currentRes\n",
    "                                betterBags[otherIdx] = otherBag\n",
    "                                betterBags[cenIdx] = centerBag\n",
    "                                betterExcludedStuff = nsExcludedStuff\n",
    "                                betterCapacities = nsCapacities\n",
    "                            break\n",
    "                        else:\n",
    "                            # otherBag.append(otherStuff)\n",
    "                            otherBag.insert(0, otherStuff)\n",
    "                            otherIterNum += 1\n",
    "                            if otherIterNum == n:\n",
    "                                tmpCenterStuff = cenStuff\n",
    "                    currentRes = get_total_val(nsAllBags)\n",
    "                    if currentRes > maxRes:\n",
    "                        maxRes = currentRes\n",
    "                        betterBags[otherIdx] = otherBag\n",
    "                        betterBags[cenIdx] = centerBag\n",
    "                        betterExcludedStuff = nsExcludedStuff\n",
    "                        betterCapacities = nsCapacities\n",
    "        print(\"The max value of Negihbors(x(%d)) is %d\"%(iteraNum, maxRes))\n",
    "        if maxRes > result:\n",
    "            if tmpOtherStuff:\n",
    "                betterExcludedStuff.insert(0, tmpOtherStuff)\n",
    "                \n",
    "            if tmpCenterStuff:\n",
    "                betterExcludedStuff.insert(0, tmpCenterStuff)\n",
    "            result = maxRes\n",
    "            nsAllBags = copy.deepcopy(betterBags)\n",
    "            nsCapacities = copy.deepcopy(betterCapacities)\n",
    "            nsExcludedStuff = copy.deepcopy(betterExcludedStuff)\n",
    "            iteraNum += 1\n",
    "            print(\"x(%d): %d\"%(iteraNum, result))\n",
    "        else:\n",
    "            print(\"Because it is smaller than or equals to x(%d): %d, so we end it.\"%(iteraNum, result))\n",
    "            break\n",
    "\n",
    "    return maxRes"
   ]
  },
  {
   "cell_type": "markdown",
   "metadata": {},
   "source": [
    "#### 4. Test cases：\n",
    "<table border=\"1\">\n",
    "  <tr>\n",
    "    <th>Values</th>\n",
    "    <th>Weights</th>\n",
    "    <th>Capacity</th>\n",
    "    <th>Result</th>\n",
    "  </tr>\n",
    "  <tr>\n",
    "    <td>[4, 10, 5, 8]</td>\n",
    "    <td>[3, 9, 4, 6]</td>\n",
    "      <td>[12, 5]</td>\n",
    "      <td>19</td>\n",
    "  </tr>\n",
    "    <tr>\n",
    "    <td>[8, 3, 2]</td>\n",
    "    <td>[8, 5, 3]</td>\n",
    "      <td>[13, 3]</td>\n",
    "      <td>13</td>\n",
    "  </tr>\n",
    "    <tr>\n",
    "    <td>[10, 8, 1, 5]</td>\n",
    "    <td>[10, 7, 4, 8]</td>\n",
    "      <td>[14, 8]</td>\n",
    "      <td>19</td>\n",
    "  </tr>\n",
    "    <tr>\n",
    "    <td>[11, 8, 1, 5, 10]</td>\n",
    "    <td>[10, 7, 4, 8, 9]</td>\n",
    "      <td>[14, 8]</td>\n",
    "      <td>20</td>\n",
    "  </tr>\n",
    "    \n",
    "</table>"
   ]
  },
  {
   "cell_type": "code",
   "execution_count": 20,
   "metadata": {},
   "outputs": [
    {
     "name": "stdout",
     "output_type": "stream",
     "text": [
      "x(0): 17\n",
      "The max value of Negihbors(x(0)) is 19\n",
      "x(1): 19\n",
      "The max value of Negihbors(x(1)) is 19\n",
      "Because it is smaller than or equals to x(1): 19, so we end it.\n"
     ]
    },
    {
     "data": {
      "text/plain": [
       "19"
      ]
     },
     "execution_count": 20,
     "metadata": {},
     "output_type": "execute_result"
    },
    {
     "name": "stdout",
     "output_type": "stream",
     "text": [
      "----------------------------------\n",
      "x(0): 10\n",
      "The max value of Negihbors(x(0)) is 13\n",
      "x(1): 13\n"
     ]
    },
    {
     "data": {
      "text/plain": [
       "13"
      ]
     },
     "execution_count": 20,
     "metadata": {},
     "output_type": "execute_result"
    },
    {
     "name": "stdout",
     "output_type": "stream",
     "text": [
      "----------------------------------\n",
      "x(0): 14\n",
      "The max value of Negihbors(x(0)) is 19\n",
      "x(1): 19\n",
      "The max value of Negihbors(x(1)) is 19\n",
      "Because it is smaller than or equals to x(1): 19, so we end it.\n"
     ]
    },
    {
     "data": {
      "text/plain": [
       "19"
      ]
     },
     "execution_count": 20,
     "metadata": {},
     "output_type": "execute_result"
    },
    {
     "name": "stdout",
     "output_type": "stream",
     "text": [
      "----------------------------------\n",
      "x(0): 14\n",
      "The max value of Negihbors(x(0)) is 19\n",
      "x(1): 19\n",
      "The max value of Negihbors(x(1)) is 20\n",
      "x(2): 20\n",
      "The max value of Negihbors(x(2)) is 20\n",
      "Because it is smaller than or equals to x(2): 20, so we end it.\n"
     ]
    },
    {
     "data": {
      "text/plain": [
       "20"
      ]
     },
     "execution_count": 20,
     "metadata": {},
     "output_type": "execute_result"
    },
    {
     "name": "stdout",
     "output_type": "stream",
     "text": [
      "----------------------------------\n"
     ]
    }
   ],
   "source": [
    "ns_solution([4, 10, 5, 8], [3, 9, 4, 6], [12, 5])\n",
    "print('----------------------------------')\n",
    "ns_solution([8, 3, 2], [8, 5, 3], [13, 3])\n",
    "print('----------------------------------')\n",
    "ns_solution([10, 8, 1, 5], [10, 7, 4, 8], [14, 8])\n",
    "print('----------------------------------')\n",
    "ns_solution([11, 8, 1, 5, 10], [10, 7, 4, 8, 9], [14, 8])\n",
    "print('----------------------------------')"
   ]
  },
  {
   "cell_type": "markdown",
   "metadata": {},
   "source": [
    "* As we can see, the answers are all right.\n",
    "\n",
    "---"
   ]
  },
  {
   "cell_type": "markdown",
   "metadata": {},
   "source": [
    "## Part 2 - Tabu-search"
   ]
  },
  {
   "cell_type": "markdown",
   "metadata": {},
   "source": [
    "#### 1. Algorithm description\n",
    "A problem with the neighborhood search heuristics is that they eventually will get stuck in a locally optimal solution. A locally optimal solution is a solution that cannot be improved by moving to any of the solutions that are sufficiently close in the search space (i.e., in the neighborhood), but there are solutions farther away that are better. The ideas of tabu-search methods, which are based on neighborhood search,\n",
    "are:\n",
    "* It is possible to move to a solution with worse objective if there is no\n",
    "improving solution in the neighborhood (note that it is necessary to keep\n",
    "track of the so far best found solution).\n",
    "* The kmost recent solutions are tabu, i.e., they cannot be visited (otherwise\n",
    "the algorithm might immediately go back to the locally optimal\n",
    "solution).\n"
   ]
  },
  {
   "cell_type": "markdown",
   "metadata": {},
   "source": [
    "#### 2. The flowchart\n",
    "> I copy it from PPT\n",
    "![](https://i.imgur.com/xL30MJU.png)"
   ]
  },
  {
   "cell_type": "markdown",
   "metadata": {},
   "source": [
    "#### 3. The details\n",
    "* It is similar with the neighbour algorithm. But it allows to move to worse case in order to find global optimal solution.\n",
    "* The stuff removed from centerBag can not be stored in otherBag, I will put it into excludedBag.\n",
    "* I will put the stuff removed from otherBag into excludedBag.\n",
    "* Because some of bags maybe empty, so after putting stuff into these bags the excludedBag will be empty. So some examples I runned will interrupt before running all iterations."
   ]
  },
  {
   "cell_type": "markdown",
   "metadata": {},
   "source": [
    "#### 4. The source code."
   ]
  },
  {
   "cell_type": "code",
   "execution_count": 192,
   "metadata": {},
   "outputs": [],
   "source": [
    "import copy\n",
    "\n",
    "\n",
    "# calculate the amount of values\n",
    "def get_total_val(allBags):\n",
    "    res = 0\n",
    "    for bag in allBags:\n",
    "        if bag:\n",
    "            for item in bag:\n",
    "                res += item[2]\n",
    "    return res\n",
    "\n",
    "\n",
    "def tabu_solution(values: \"The values of stuff(a list of integers)\",\n",
    "                  weights: \"The weights of stuff(a list of integers)\",\n",
    "                  capacitiesInvar: \"The capacities of knapsack(a list of integers)\",\n",
    "                  numOfIter: \"The value must be integer.\") -> \"function return should be a integer\":\n",
    "    # ensure the length of weights equals to the length of values\n",
    "    assert len(weights) == len(values), \"One weight corresopnds to one value\"\n",
    "    NUM_OF_ITER = numOfIter\n",
    "    # the original capacity of each bag\n",
    "    # I decide to use the biggest bag firstly.\n",
    "    capacitiesInvar = sorted(capacitiesInvar)\n",
    "    capacities = copy.deepcopy(capacitiesInvar)\n",
    "\n",
    "    # record the v/w\n",
    "    gravities = list(map(lambda x, y: x / y, values, weights))\n",
    "\n",
    "    # record the stuff that is not used\n",
    "    excludedStuff = []\n",
    "    # initialize the excludedStuff(add all at first)\n",
    "    for i in range(len(weights)):\n",
    "        excludedStuff.append((gravities[i], weights[i], values[i]))\n",
    "\n",
    "    # sort the list(according to the v/w, the bigger value(v/w) is in the tail) in order to make work easily\n",
    "    excludedStuff = sorted(excludedStuff)\n",
    "    # record the answer\n",
    "    result = 0\n",
    "    # record which of the index should be used.\n",
    "    priority = 0\n",
    "\n",
    "    # record the information of all stuff in bags\n",
    "    allBags = [[] for i in range(len(capacities))]\n",
    "    # record the index of which bag is used\n",
    "    # the biggest bag in first, the second biggest bag in second...\n",
    "    # the format like [[bagA], [(1.3, 4, 3), (1.2, 3, 3), ...], [bagC]...]\n",
    "    idx = -1\n",
    "    storedCapacities = []\n",
    "    while excludedStuff and capacities:\n",
    "        # use the biggest bag at first.\n",
    "        capacity = capacities.pop()\n",
    "        idx += 1\n",
    "        # when restart a loop, we set priority as len(excludedStuff) - 1, in oreder to iterate all stuff in excludedStuff\n",
    "        priority = len(excludedStuff) - 1\n",
    "        while capacity > 0 and priority >= 0:\n",
    "            stuff = excludedStuff[priority]\n",
    "            # if the stuff is heavier than the capacity of bag, we skip this stuff.\n",
    "            if (capacity < stuff[1]):\n",
    "                priority -= 1\n",
    "\n",
    "            else:\n",
    "                capacity -= stuff[1]\n",
    "                result += stuff[2]\n",
    "\n",
    "                allBags[idx].append(stuff)\n",
    "                # when the stuff is used, we remove it from excludedStuff.\n",
    "                excludedStuff.pop(priority)\n",
    "                # reset the priority(minus one)\n",
    "                priority -= 1\n",
    "        storedCapacities.append(capacity)\n",
    "\n",
    "    # if there is no stuff left, we return the result.\n",
    "    if not excludedStuff:\n",
    "        return result\n",
    "\n",
    "    # ==============Let's start tabu search========================\n",
    "\n",
    "    # There I just store one element in tabu list.\n",
    "    tabu = None\n",
    "    tmpTabu = None\n",
    "    # iterate select stuff from one bag into another\n",
    "    currentRes = result\n",
    "    maxRes = result\n",
    "    maxValInIter = 0\n",
    "    # store better strategy\n",
    "    betterBags = copy.deepcopy(allBags)\n",
    "\n",
    "    betterCapacities = copy.deepcopy(storedCapacities)\n",
    "    betterExcludedStuff = copy.deepcopy(excludedStuff)\n",
    "    nsExcludedStuff = copy.deepcopy(excludedStuff)\n",
    "    nsAllBags = copy.deepcopy(allBags)\n",
    "    nsCapacities = copy.deepcopy(storedCapacities)\n",
    "    print(\"x(0) is %d\"%(result))\n",
    "\n",
    "    # if there exists at least, we can use this way. When previous value is smaller than all his neighbors, we stop it.\n",
    "    while numOfIter > 0 and nsExcludedStuff:\n",
    "        tmpOtherStuff = None\n",
    "        tmpCenterStuff = None\n",
    "        maxValInIter = 0\n",
    "        eStuff = nsExcludedStuff.pop()\n",
    "        # iterate all the bags\n",
    "        for centerBag in nsAllBags:\n",
    "            if not centerBag:\n",
    "                # The state is end state. If it is empty, no stuff can be stored in this bag. So we just skip this bag.\n",
    "                continue\n",
    "            else:\n",
    "                # record the index of centerBag in the allBags, it will help us to calculate its room\n",
    "                cenIdx = nsAllBags.index(centerBag)\n",
    "                # record the num of iteration\n",
    "                cenIterNum = 0\n",
    "                m = len(centerBag)\n",
    " \n",
    "                while cenIterNum < m:\n",
    "                    cenStuff = centerBag.pop()\n",
    "                    if (nsCapacities[cenIdx] + cenStuff[1]) >= eStuff[1]:\n",
    "                        nsCapacities[cenIdx] += cenStuff[1] - eStuff[1]\n",
    "                        centerBag.append(eStuff)\n",
    "                        break\n",
    "                    else:\n",
    "                        centerBag.insert(0, cenStuff)\n",
    "                        cenIterNum += 1      \n",
    "                if cenIterNum == m:\n",
    "                    break\n",
    "            for otherBag in nsAllBags:\n",
    "                otherIdx = nsAllBags.index(otherBag)\n",
    "                # if the centerBag or otherBag is empty, we skip it.\n",
    "                if centerBag == otherBag:\n",
    "                    continue\n",
    "                if not otherBag:\n",
    "                    if nsCapacities[otherIdx] >= cenStuff[1]:\n",
    "                        otherBag.append(cenStuff)\n",
    "                        nsCapacities[otherIdx] -= cenStuff[1]\n",
    "                        \n",
    "                        if tabu != nsAllBags:\n",
    "                            currentRes = get_total_val(nsAllBags)\n",
    "                            if currentRes > maxValInIter:\n",
    "                                tmpTabu = nsAllBags\n",
    "                                maxValInIter = currentRes\n",
    "                                maxRes = maxRes if maxRes >= currentRes else currentRes \n",
    "                                betterBags[otherIdx] = otherBag\n",
    "                                betterBags[cenIdx] = centerBag\n",
    "                                betterExcludedStuff = nsExcludedStuff\n",
    "                                betterCapacities = nsCapacities\n",
    "                            # break\n",
    "                    else:\n",
    "                        tmpCenterStuff = cenStuff\n",
    "\n",
    "                else:\n",
    "                    otherIterNum = 0\n",
    "                    n = len(otherBag)\n",
    "                    \n",
    "                    \n",
    "                    # nsExcludedStuff.insert(0, otherStuff)\n",
    "                    otherStuff = None\n",
    "                    while otherIterNum < n:\n",
    "                        otherStuff = otherBag.pop()\n",
    "                        \n",
    "                        if nsCapacities[otherIdx] + otherStuff[1] >= cenStuff[1]:\n",
    "                            otherBag.append(cenStuff)\n",
    "                            nsCapacities[otherIdx] += otherStuff[1] - cenStuff[1]\n",
    "                            #                             currentRes = maxRes - otherStuff[1] + eStuff[1]\n",
    "                            if tabu != nsAllBags:\n",
    "#                                 nsExcludedStuff.insert(0, otherStuff)\n",
    "                                currentRes = get_total_val(nsAllBags)\n",
    "                                if currentRes > maxValInIter:\n",
    "                                    \n",
    "                                    tmpOtherStuff = otherStuff\n",
    "                                    tmpTabu = nsAllBags\n",
    "                                    maxValInIter = currentRes\n",
    "                                    maxRes = maxRes if maxRes >= currentRes else currentRes \n",
    "                                    betterBags[otherIdx] = otherBag\n",
    "                                    betterBags[cenIdx] = centerBag\n",
    "                                    betterExcludedStuff = nsExcludedStuff\n",
    "                                    betterCapacities = nsCapacities\n",
    "                                break\n",
    "                            else:\n",
    "                                \n",
    "                                # otherBag.append(otherStuff)\n",
    "                                otherBag.insert(0, otherStuff)\n",
    "                                otherIterNum += 1\n",
    "                                if otherIterNum == n:\n",
    "                                    tmpCenterStuff = cenStuff\n",
    "                        else:\n",
    "                            \n",
    "                            otherBag.insert(0, otherStuff)\n",
    "                            otherIterNum += 1\n",
    "                            if otherIterNum == n:\n",
    "                                tmpCenterStuff = cenStuff\n",
    "                    currentRes = get_total_val(nsAllBags)\n",
    "                    if currentRes > maxValInIter:\n",
    "                        tmpTabu = nsAllBags\n",
    "                        maxValInIter = currentRes\n",
    "                        maxRes = maxRes if maxRes >= currentRes else currentRes \n",
    "                        betterBags[otherIdx] = otherBag\n",
    "                        betterBags[cenIdx] = centerBag\n",
    "                        betterExcludedStuff = nsExcludedStuff\n",
    "                        betterCapacities = nsCapacities\n",
    "\n",
    "        tabu = tmpTabu\n",
    "        #result = maxRes\n",
    "        if tmpOtherStuff:\n",
    "            betterExcludedStuff.insert(0, tmpOtherStuff)\n",
    "        if tmpCenterStuff:\n",
    "            betterExcludedStuff.insert(0, tmpCenterStuff)\n",
    "        nsAllBags = copy.deepcopy(betterBags)\n",
    "        nsCapacities = copy.deepcopy(betterCapacities)\n",
    "        nsExcludedStuff = copy.deepcopy(betterExcludedStuff)\n",
    "        numOfIter -= 1\n",
    "#         print(nsAllBags)\n",
    "        print(\"After %d loop, the x(%d) is %d and the best result is %d\" % (NUM_OF_ITER-numOfIter, NUM_OF_ITER-numOfIter, maxValInIter, maxRes))\n",
    "\n",
    "    return maxRes"
   ]
  },
  {
   "cell_type": "markdown",
   "metadata": {},
   "source": [
    "#### 4. Test cases：\n",
    "<table border=\"1\">\n",
    "  <tr>\n",
    "    <th>Values</th>\n",
    "    <th>Weights</th>\n",
    "    <th>Capacity</th>\n",
    "    <th>Result</th>\n",
    "  </tr>\n",
    "  <tr>\n",
    "    <td>[4, 10, 5, 8]</td>\n",
    "    <td>[3, 9, 4, 6]</td>\n",
    "      <td>[12, 5]</td>\n",
    "      <td>19</td>\n",
    "  </tr>\n",
    "    <tr>\n",
    "    <td>[8, 3, 2]</td>\n",
    "    <td>[8, 5, 3]</td>\n",
    "      <td>[13, 3]</td>\n",
    "      <td>13</td>\n",
    "  </tr>\n",
    "    <tr>\n",
    "    <td>[10, 8, 1, 5]</td>\n",
    "    <td>[10, 7, 4, 8]</td>\n",
    "      <td>[14, 8]</td>\n",
    "      <td>19</td>\n",
    "  </tr>\n",
    "    <tr>\n",
    "    <td>[11, 8, 1, 5, 10]</td>\n",
    "    <td>[10, 7, 4, 8, 9]</td>\n",
    "      <td>[14, 8]</td>\n",
    "      <td>20</td>\n",
    "  </tr>\n",
    "    \n",
    "</table>"
   ]
  },
  {
   "cell_type": "code",
   "execution_count": 197,
   "metadata": {},
   "outputs": [
    {
     "name": "stdout",
     "output_type": "stream",
     "text": [
      "x(0) is 17\n",
      "After 1 loop, the x(1) is 19 and the best result is 19\n",
      "After 2 loop, the x(2) is 17 and the best result is 19\n"
     ]
    },
    {
     "data": {
      "text/plain": [
       "19"
      ]
     },
     "execution_count": 197,
     "metadata": {},
     "output_type": "execute_result"
    },
    {
     "name": "stdout",
     "output_type": "stream",
     "text": [
      "x(0) is 10\n",
      "After 1 loop, the x(1) is 13 and the best result is 13\n"
     ]
    },
    {
     "data": {
      "text/plain": [
       "13"
      ]
     },
     "execution_count": 197,
     "metadata": {},
     "output_type": "execute_result"
    },
    {
     "name": "stdout",
     "output_type": "stream",
     "text": [
      "x(0) is 14\n",
      "After 1 loop, the x(1) is 19 and the best result is 19\n",
      "After 2 loop, the x(2) is 14 and the best result is 19\n",
      "After 3 loop, the x(3) is 19 and the best result is 19\n",
      "After 4 loop, the x(4) is 14 and the best result is 19\n"
     ]
    },
    {
     "data": {
      "text/plain": [
       "19"
      ]
     },
     "execution_count": 197,
     "metadata": {},
     "output_type": "execute_result"
    },
    {
     "name": "stdout",
     "output_type": "stream",
     "text": [
      "x(0) is 14\n",
      "After 1 loop, the x(1) is 19 and the best result is 19\n",
      "After 2 loop, the x(2) is 20 and the best result is 20\n",
      "After 3 loop, the x(3) is 14 and the best result is 20\n",
      "After 4 loop, the x(4) is 19 and the best result is 20\n"
     ]
    },
    {
     "data": {
      "text/plain": [
       "20"
      ]
     },
     "execution_count": 197,
     "metadata": {},
     "output_type": "execute_result"
    }
   ],
   "source": [
    "tabu_solution([4, 10, 5, 8], [3, 9, 4, 6], [12, 5], 2)\n",
    "tabu_solution([8, 3, 2], [8, 5, 3], [13, 3],4)\n",
    "tabu_solution([10, 8, 1, 5], [10, 7, 4, 8], [14, 8],4)\n",
    "tabu_solution([11, 8, 1, 5, 10], [10, 7, 4, 8, 9], [14, 8],4)"
   ]
  },
  {
   "cell_type": "markdown",
   "metadata": {},
   "source": [
    "* As we can see, the results are all right.\n",
    "\n",
    "---"
   ]
  }
 ],
 "metadata": {
  "kernelspec": {
   "display_name": "Python 3",
   "language": "python",
   "name": "python3"
  },
  "language_info": {
   "codemirror_mode": {
    "name": "ipython",
    "version": 3
   },
   "file_extension": ".py",
   "mimetype": "text/x-python",
   "name": "python",
   "nbconvert_exporter": "python",
   "pygments_lexer": "ipython3",
   "version": "3.6.4"
  }
 },
 "nbformat": 4,
 "nbformat_minor": 2
}
